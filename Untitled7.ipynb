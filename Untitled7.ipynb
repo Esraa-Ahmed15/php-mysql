{
  "nbformat": 4,
  "nbformat_minor": 0,
  "metadata": {
    "colab": {
      "private_outputs": true,
      "provenance": [],
      "toc_visible": true,
      "authorship_tag": "ABX9TyNTMYJkCv9j26RqHws2wpms",
      "include_colab_link": true
    },
    "kernelspec": {
      "name": "python3",
      "display_name": "Python 3"
    },
    "language_info": {
      "name": "python"
    },
    "accelerator": "GPU",
    "gpuClass": "standard"
  },
  "cells": [
    {
      "cell_type": "markdown",
      "metadata": {
        "id": "view-in-github",
        "colab_type": "text"
      },
      "source": [
        "<a href=\"https://colab.research.google.com/github/Esraa-Ahmed15/php-mysql/blob/master/Untitled7.ipynb\" target=\"_parent\"><img src=\"https://colab.research.google.com/assets/colab-badge.svg\" alt=\"Open In Colab\"/></a>"
      ]
    },
    {
      "cell_type": "code",
      "execution_count": null,
      "metadata": {
        "id": "5yKdcGiQh3Zt"
      },
      "outputs": [],
      "source": [
        "import cv2\n",
        "import numpy as np\n",
        "from google.colab.patches import cv2_imshow\n"
      ]
    },
    {
      "cell_type": "code",
      "source": [
        "# Load original image\n",
        "img = cv2.imread('/content/butterfly-flower-23417093.jpg')"
      ],
      "metadata": {
        "id": "7bWqZPadtRQF"
      },
      "execution_count": null,
      "outputs": []
    },
    {
      "cell_type": "code",
      "source": [
        "cv2_imshow(img)"
      ],
      "metadata": {
        "id": "lGMp5C0OwiqA"
      },
      "execution_count": null,
      "outputs": []
    },
    {
      "cell_type": "code",
      "source": [
        "# Create list to store noisy images\n",
        "images = []\n",
        "# Generate noisy images using cv2.randn. Can use your own mean and std.\n",
        "for _ in range(20):\n",
        "    img1 = img.copy() \n",
        "    cv2.randn(img1,(0,0,0),(50,50,50))  #cv2.randn(image, mean, standard deviation) \n",
        "    images.append(img+img1)\n",
        "# For averaging create an empty array, then add images to this array.\n",
        "img_avg=np.zeros((img.shape[0],img.shape[1],img.shape[2]),np.float32)\n",
        "for im in images:\n",
        "    img_avg=img_avg+im/20\n",
        "# Round the float values. Always specify the dtype\n",
        "img_avg=np.array(np.round(img_avg),dtype=np.uint8)\n",
        "# Display the images\n",
        "cv2_imshow(img)\n",
        "cv2_imshow(images[1])\n",
        "cv2_imshow(img_avg)\n",
        "\n",
        "cv2.waitKey(0)"
      ],
      "metadata": {
        "id": "6qR-i7Vh1x6A"
      },
      "execution_count": null,
      "outputs": []
    },
    {
      "cell_type": "markdown",
      "source": [
        "# **Image** **Negatives**"
      ],
      "metadata": {
        "id": "JzBSUXhK2T9d"
      }
    },
    {
      "cell_type": "code",
      "source": [],
      "metadata": {
        "id": "3C-E_HK92hUR"
      },
      "execution_count": null,
      "outputs": []
    }
  ]
}